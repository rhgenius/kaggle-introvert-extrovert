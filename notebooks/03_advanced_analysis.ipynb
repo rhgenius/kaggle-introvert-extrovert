{
 "cells": [
  {
   "cell_type": "markdown",
   "id": "e9696213",
   "metadata": {},
   "source": [
    "# Advanced Analysis - Kaggle Introvert vs Extrovert\n",
    "\n",
    "This notebook contains advanced analysis and visualization for the competition."
   ]
  },
  {
   "cell_type": "code",
   "execution_count": null,
   "id": "da0b97b6",
   "metadata": {},
   "outputs": [],
   "source": [
    "import pandas as pd\n",
    "import numpy as np\n",
    "import matplotlib.pyplot as plt\n",
    "import seaborn as sns\n",
    "from pathlib import Path\n",
    "import sys\n",
    "sys.path.append('../src')\n",
    "\n",
    "# Load data\n",
    "data_path = Path('../data/raw')\n",
    "train_df = pd.read_csv(data_path / 'train.csv')\n",
    "test_df = pd.read_csv(data_path / 'test.csv')\n",
    "\n",
    "print('Data loaded successfully!')"
   ]
  }
 ],
 "metadata": {
  "language_info": {
   "name": "python"
  }
 },
 "nbformat": 4,
 "nbformat_minor": 5
}
